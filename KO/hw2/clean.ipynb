{
 "cells": [
  {
   "cell_type": "code",
   "execution_count": 34,
   "metadata": {},
   "outputs": [],
   "source": [
    "#!/usr/bin/env python3\n",
    "\n",
    "import decimal\n",
    "import sys\n",
    "import gurobipy as g\n",
    "import numpy as np\n",
    "from itertools import permutations, combinations\n",
    "\n",
    "file_path = 'instances/cat_part.txt'\n",
    "\n",
    "f = open(file_path)\n",
    "\n",
    "data = []\n",
    "\n",
    "for line in f:\n",
    "    data_line = []\n",
    "    for j in line.split(' '):\n",
    "        data_line.append(j)\n",
    "    data.append(data_line)\n",
    "\n",
    "\n",
    "def distance(A, B):\n",
    "    A = np.array(A[:, -3:])\n",
    "    B = np.array(B[:, :3])\n",
    "    return np.sum(np.absolute(A - B))"
   ]
  },
  {
   "cell_type": "code",
   "execution_count": 35,
   "metadata": {},
   "outputs": [],
   "source": [
    "def find_one_tour(edges):\n",
    "    tour = []\n",
    "    tour.append(edges[0])\n",
    "    start = edges[0][0]\n",
    "    temp = edges[0][1]\n",
    "    edges.remove(tour[0])\n",
    "\n",
    "    while True:\n",
    "        for edge in edges:\n",
    "            if edge[0] == temp:\n",
    "                tour.append(edge)\n",
    "                if edge[1] == start:\n",
    "                    edges.remove(edge)\n",
    "                    return tour, edges\n",
    "                else:\n",
    "                    temp = edge[1]\n",
    "                    edges.remove(edge)\n",
    "                    break\n",
    "\n",
    "                    \n",
    "def subtour(edges):\n",
    "    shortest_tour = edges[:]\n",
    "\n",
    "    while len(edges) > 1:\n",
    "        tour, edges = find_one_tour(edges)\n",
    "        if len(tour) < len(shortest_tour):\n",
    "            shortest_tour = tour\n",
    "    return shortest_tour\n",
    "\n",
    "\n",
    "def subtourelim(model, where):\n",
    "  if where == g.GRB.callback.MIPSOL:\n",
    "    vals = model.cbGetSolution(model._vars)\n",
    "    selected = g.tuplelist((i, j) for i, j in model._vars.keys()if vals[i, j] > 0.5)\n",
    "\n",
    "    tour = subtour(selected)\n",
    "    if len(tour) < n:\n",
    "      expr = 0\n",
    "      for i in range(len(tour)):\n",
    "          expr += model._vars[tour[i][0], tour[i][1]]\n",
    "      model.cbLazy(expr <= len(tour)-1)"
   ]
  },
  {
   "cell_type": "code",
   "execution_count": 36,
   "metadata": {},
   "outputs": [
    {
     "name": "stdout",
     "output_type": "stream",
     "text": [
      "Set parameter LazyConstraints to value 1\n",
      "Gurobi Optimizer version 9.5.1 build v9.5.1rc2 (mac64[arm])\n",
      "Thread count: 8 physical cores, 8 logical processors, using up to 8 threads\n",
      "Optimize a model with 18 rows, 81 columns and 162 nonzeros\n",
      "Model fingerprint: 0x8593956c\n",
      "Variable types: 0 continuous, 81 integer (81 binary)\n",
      "Coefficient statistics:\n",
      "  Matrix range     [1e+00, 1e+00]\n",
      "  Objective range  [6e+03, 1e+05]\n",
      "  Bounds range     [1e+00, 1e+00]\n",
      "  RHS range        [1e+00, 1e+00]\n",
      "Found heuristic solution: objective 452020.00000\n",
      "Presolve removed 0 rows and 9 columns\n",
      "Presolve time: 0.00s\n",
      "Presolved: 18 rows, 72 columns, 144 nonzeros\n",
      "Variable types: 0 continuous, 72 integer (72 binary)\n",
      "\n",
      "Root relaxation: objective 1.153830e+05, 15 iterations, 0.00 seconds (0.00 work units)\n",
      "\n",
      "    Nodes    |    Current Node    |     Objective Bounds      |     Work\n",
      " Expl Unexpl |  Obj  Depth IntInf | Incumbent    BestBd   Gap | It/Node Time\n",
      "\n",
      "     0     0 123221.000    0    6 452020.000 123221.000  72.7%     -    0s\n",
      "H    0     0                    138393.00000 123221.000  11.0%     -    0s\n",
      "     0     0 134524.667    0    9 138393.000 134524.667  2.80%     -    0s\n",
      "     0     0 infeasible    0      138393.000 138393.000  0.00%     -    0s\n",
      "\n",
      "Explored 1 nodes (38 simplex iterations) in 0.02 seconds (0.00 work units)\n",
      "Thread count was 8 (of 8 available processors)\n",
      "\n",
      "Solution count 3: 138393 143842 452020 \n",
      "\n",
      "Optimal solution found (tolerance 1.00e-04)\n",
      "Best objective 1.383930000000e+05, best bound 1.383930000000e+05, gap 0.0000%\n",
      "\n",
      "User-callback calls 133, time in user-callback 0.00 sec\n"
     ]
    }
   ],
   "source": [
    "n = int(data[0][0])\n",
    "w = int(data[0][1])\n",
    "h = int(data[0][2])\n",
    "\n",
    "picture = []\n",
    "piece = []\n",
    "\n",
    "for i in range(0, n):\n",
    "    piece = np.asarray(data[i+1])\n",
    "    piece = np.resize(piece, (h, w*3))\n",
    "    picture.append(piece)\n",
    "\n",
    "picture = np.array(picture)\n",
    "picture = picture.astype(int)\n",
    "\n",
    "m = g.Model()\n",
    "\n",
    "vars = {}\n",
    "\n",
    "for p in permutations(np.arange(n), 2):\n",
    "    dist = distance(picture[p[0]], picture[p[1]])\n",
    "    vars[p[0], p[1]] = m.addVar(obj=dist, vtype=g.GRB.BINARY, name=str(p[0]) + '-' + str(p[1]))\n",
    "\n",
    "for i in range(n):\n",
    "    vars[i, i] = m.addVar(obj=0, ub=0, vtype=g.GRB.BINARY, name=str(i) + '-' + str(i))\n",
    "    vars[n, i] = m.addVar(obj=0, vtype=g.GRB.BINARY, name=str(n) + '-' + str(i))\n",
    "    vars[i, n] = m.addVar(obj=0, vtype=g.GRB.BINARY, name=str(i) + '-' + str(n))\n",
    "    \n",
    "vars[n, n] = m.addVar(obj=0, ub=0, vtype=g.GRB.BINARY, name=str(n) + '-' + str(n))\n",
    "m.update()\n",
    "\n",
    "\n",
    "for j in range(n + 1):\n",
    "    m.addConstr(g.quicksum(vars[i, j] for i in range(n + 1)) == 1)\n",
    "\n",
    "for i in range(n + 1):\n",
    "    m.addConstr(g.quicksum(vars[i, j] for j in range(n + 1)) == 1)\n",
    "\n",
    "m._vars = vars\n",
    "m.params.LazyConstraints = 1\n",
    "m.optimize(subtourelim)\n",
    "m.write('clean2.lp')\n"
   ]
  },
  {
   "cell_type": "code",
   "execution_count": 37,
   "metadata": {},
   "outputs": [
    {
     "name": "stdout",
     "output_type": "stream",
     "text": [
      "[(0, 1), (1, 2), (2, 3), (4, 0), (5, 6), (6, 7), (7, 4), (3, 8), (8, 5)]\n",
      "8 7 6 5 4 3 2 1 "
     ]
    }
   ],
   "source": []
  },
  {
   "cell_type": "code",
   "execution_count": 38,
   "metadata": {},
   "outputs": [
    {
     "name": "stdout",
     "output_type": "stream",
     "text": [
      "6 7 8 5 1 2 3 4 "
     ]
    }
   ],
   "source": [
    "path = []\n",
    "\n",
    "for i in vars:\n",
    "    if(vars[i].X == 1):\n",
    "        path.append(i)\n",
    "\n",
    "temp = n\n",
    "\n",
    "for i in path:\n",
    "    if (i[0] == temp):\n",
    "        temp = i[1]\n",
    "\n",
    "while temp != n:\n",
    "    for i in path:\n",
    "        if(i[0] == temp):\n",
    "            print(temp+1, end=\" \")\n",
    "            temp = i[1]\n",
    "            break"
   ]
  }
 ],
 "metadata": {
  "interpreter": {
   "hash": "767d51c1340bd893661ea55ea3124f6de3c7a262a8b4abca0554b478b1e2ff90"
  },
  "kernelspec": {
   "display_name": "Python 2.7.16 64-bit",
   "language": "python",
   "name": "python3"
  },
  "language_info": {
   "codemirror_mode": {
    "name": "ipython",
    "version": 3
   },
   "file_extension": ".py",
   "mimetype": "text/x-python",
   "name": "python",
   "nbconvert_exporter": "python",
   "pygments_lexer": "ipython3",
   "version": "3.9.10"
  },
  "orig_nbformat": 4
 },
 "nbformat": 4,
 "nbformat_minor": 2
}
