{
 "cells": [
  {
   "cell_type": "code",
   "execution_count": 1,
   "metadata": {},
   "outputs": [],
   "source": [
    "#!/usr/bin/env python3\n",
    "\n",
    "import decimal\n",
    "import sys\n",
    "import gurobipy as g\n",
    "import numpy as np\n",
    "from itertools import permutations, combinations"
   ]
  },
  {
   "cell_type": "code",
   "execution_count": 2,
   "metadata": {},
   "outputs": [],
   "source": [
    "file_path = 'instances/example-1.txt'"
   ]
  },
  {
   "cell_type": "code",
   "execution_count": 3,
   "metadata": {},
   "outputs": [],
   "source": [
    "f = open(file_path)\n",
    "\n",
    "data = []\n",
    "\n",
    "for line in f:\n",
    "    data_line = []\n",
    "    for j in line.split(' '):\n",
    "        data_line.append(j)\n",
    "    data.append(data_line)\n",
    "\n",
    "# for i in data:\n",
    "#     for j in i:\n",
    "#         print(j, end=\" \")\n"
   ]
  },
  {
   "cell_type": "code",
   "execution_count": 4,
   "metadata": {},
   "outputs": [],
   "source": [
    "n = int(data[0][0])\n",
    "w = int(data[0][1])\n",
    "h = int(data[0][2])\n",
    "\n",
    "picture = []\n",
    "piece = []\n",
    "\n",
    "for i in range(0, n):\n",
    "    piece = np.asarray(data[i+1])\n",
    "    piece = np.resize(piece, (h, w*3))\n",
    "    picture.append(piece)\n",
    "\n",
    "picture = np.array(picture)\n",
    "picture = picture.astype(int)"
   ]
  },
  {
   "cell_type": "code",
   "execution_count": 5,
   "metadata": {},
   "outputs": [],
   "source": [
    "def distance(A, B):\n",
    "    A = np.array(A[:, -3:])\n",
    "    B = np.array(B[:, :3])\n",
    "    return np.sum(np.absolute(A - B))\n",
    "\n",
    "def compute_distance(A, B):\n",
    "    height = A.shape[0]\n",
    "    width = A.shape[1]\n",
    "    A = np.asarray(A)\n",
    "    B = np.asarray(B)\n",
    "    A = A[:, width - 3: width]\n",
    "    B = B[:, 0:3]\n",
    "    return np.sum(np.absolute(A - B))\n",
    "\n",
    "# dist = np.zeros((n+1, n+1), int)\n",
    "# dist = {}\n",
    "\n",
    "# print(dist[0][1])\n",
    "\n",
    "# perm = permutations(np.arange(n), 2)\n",
    "\n",
    "# for p in perm:\n",
    "#     # key = str(p[0])+\"-\"+str(p[1])\n",
    "#     dist[p[0], p[1]] = distance(picture[p[0]], picture[p[1]])\n",
    "\n",
    "# for p in range(n+1):\n",
    "    # dist[0, str(p)] = 0\n",
    "    # dist[str(p), 0] = 0\n",
    "\n",
    "# print(dist)\n"
   ]
  },
  {
   "cell_type": "code",
   "execution_count": 6,
   "metadata": {},
   "outputs": [
    {
     "name": "stdout",
     "output_type": "stream",
     "text": [
      "[[['255' '0' '0' '0' '0' '255']\n",
      "  ['0' '128' '128' '0' '255' '0']\n",
      "  ['0' '0' '255' '255' '0' '0']\n",
      "  ['0' '255' '0' '255' '0' '0\\n']]\n",
      "\n",
      " [['0' '0' '255' '0' '255' '0']\n",
      "  ['0' '0' '255' '0' '255' '0']\n",
      "  ['255' '0' '0' '0' '0' '255']\n",
      "  ['0' '255' '0' '0' '255' '0\\n']]\n",
      "\n",
      " [['0' '0' '255' '0' '0' '255']\n",
      "  ['0' '0' '255' '0' '0' '255']\n",
      "  ['0' '0' '255' '0' '0' '255']\n",
      "  ['0' '0' '255' '0' '0' '255']]]\n",
      "[[[255   0   0   0   0 255]\n",
      "  [  0 128 128   0 255   0]\n",
      "  [  0   0 255 255   0   0]\n",
      "  [  0 255   0 255   0   0]]\n",
      "\n",
      " [[  0   0 255   0 255   0]\n",
      "  [  0   0 255   0 255   0]\n",
      "  [255   0   0   0   0 255]\n",
      "  [  0 255   0   0 255   0]]\n",
      "\n",
      " [[  0   0 255   0   0 255]\n",
      "  [  0   0 255   0   0 255]\n",
      "  [  0   0 255   0   0 255]\n",
      "  [  0   0 255   0   0 255]]]\n"
     ]
    }
   ],
   "source": [
    "stripes = []\n",
    "stripe = []\n",
    "for i in range(0, n):\n",
    "    stripe = np.asarray(data[i + 1])\n",
    "    stripe = np.resize(stripe, (h, 3*w))\n",
    "    stripes.append(stripe)\n",
    "\n",
    "stripes = np.asarray(stripes)\n",
    "\n",
    "print(stripes)\n",
    "print(picture)"
   ]
  },
  {
   "cell_type": "code",
   "execution_count": 7,
   "metadata": {},
   "outputs": [
    {
     "name": "stdout",
     "output_type": "stream",
     "text": [
      "Set parameter Username\n",
      "Academic license - for non-commercial use only - expires 2023-02-12\n"
     ]
    }
   ],
   "source": [
    "m = g.Model()\n",
    "\n",
    "vars = {}\n",
    "\n",
    "for i in range(n):\n",
    "    for j in range(n):\n",
    "        if i != j:\n",
    "            dist = distance(picture[i], picture[j])\n",
    "            vars[i, j] = m.addVar(obj=dist, vtype=g.GRB.BINARY, name='e' + str(i) + '_' + str(j))\n",
    "        else:\n",
    "            vars[i, j] = m.addVar(obj=0, ub=0, vtype=g.GRB.BINARY, name='e' + str(i) + '_' + str(j))\n",
    "    m.update()\n",
    "\n",
    "for k in range(n):\n",
    "    vars[n, k] = m.addVar(obj=0, vtype=g.GRB.BINARY, name='e' + str(n) + '_' + str(k))\n",
    "\n",
    "for k in range(n):\n",
    "    vars[k, n] = m.addVar(obj=0, vtype=g.GRB.BINARY, name='e' + str(k) + '_' + str(n))\n",
    "\n",
    "vars[n, n] = m.addVar(obj=0, ub=0, vtype=g.GRB.BINARY, name='e' + str(n) + '_' + str(n))\n",
    "m.update()\n",
    "\n",
    "\n",
    "for j in range(n + 1):\n",
    "    m.addConstr(g.quicksum(vars[i, j] for i in range(n + 1)) == 1)\n",
    "\n",
    "for i in range(n + 1):\n",
    "    m.addConstr(g.quicksum(vars[i, j] for j in range(n + 1)) == 1)"
   ]
  },
  {
   "cell_type": "code",
   "execution_count": 8,
   "metadata": {},
   "outputs": [],
   "source": [
    "def find_one_tour(edges):\n",
    "    tour = []\n",
    "    tour.append(edges[0])\n",
    "    start = edges[0][0]\n",
    "    temp = edges[0][1]\n",
    "    edges.remove(tour[0])\n",
    "\n",
    "    while True:\n",
    "        for edge in edges:\n",
    "            if edge[0] == temp:\n",
    "                tour.append(edge)\n",
    "                if edge[1] != start:\n",
    "                    temp = edge[1]\n",
    "                    edges.remove(edge)\n",
    "                    break\n",
    "                else:\n",
    "                    edges.remove(edge)\n",
    "                    return tour, edges\n",
    "\n",
    "\n",
    "def find_shortest_tour(edges):\n",
    "    shortest_tour = []\n",
    "    while len(edges) > 1:\n",
    "        tour, edges = find_one_tour(edges)\n",
    "        if len(shortest_tour) == 0:\n",
    "            shortest_tour = tour\n",
    "        else:\n",
    "            if len(tour) < len(shortest_tour):\n",
    "                shortest_tour = tour\n",
    "    return shortest_tour\n",
    "\n",
    "def subtourelim(model, where):\n",
    "  if where == g.GRB.callback.MIPSOL:\n",
    "    selected = []\n",
    "    # make a list of edges selected in the solution\n",
    "    for i in range(n+1):\n",
    "      sol = model.cbGetSolution([model._vars[i,j] for j in range(n+1)])\n",
    "      selected += [(i,j) for j in range(n+1) if sol[j] > 0.5]\n",
    "    # find the shortest cycle in the selected edge list\n",
    "    tour = find_shortest_tour(selected)\n",
    "    if len(tour) < n:\n",
    "      # add a subtour elimination constraint\n",
    "      expr = 0\n",
    "      for i in range(len(tour)):\n",
    "          expr += model._vars[tour[i][0], tour[i][1]]\n",
    "      model.cbLazy(expr <= len(tour)-1)"
   ]
  },
  {
   "cell_type": "code",
   "execution_count": 9,
   "metadata": {},
   "outputs": [],
   "source": [
    "# m = g.Model()\n",
    "# capitals = [0, 1, 2]\n",
    "\n",
    "# # Variables: is city 'i' adjacent to city 'j' on the tour?\n",
    "# vars = m.addVars(dist.keys(), obj=dist, vtype=g.GRB.BINARY, name='x')\n",
    "\n",
    "# # Symmetric direction: Copy the object\n",
    "# for i, j in vars.keys():\n",
    "#     vars[j, i] = vars[i, j]  # edge in opposite direction\n",
    "\n",
    "# # Constraints: two edges incident to each city\n",
    "# cons = m.addConstrs(vars.sum(c, '*') == 2 for c in capitals)\n",
    "\n",
    "# print(cons)\n",
    "# print(capitals)"
   ]
  },
  {
   "cell_type": "code",
   "execution_count": 10,
   "metadata": {},
   "outputs": [],
   "source": [
    "\n",
    "# def subtourelim(model, where):\n",
    "#     if where == g.GRB.Callback.MIPSOL:\n",
    "#         # make a list of edges selected in the solution\n",
    "#         vals = model.cbGetSolution(model._vars)\n",
    "#         selected = g.tuplelist((i, j) for i, j in model._vars.keys()\n",
    "#                              if vals[i, j] > 0.5)\n",
    "#         # find the shortest cycle in the selected edge list\n",
    "#         tour = subtour(selected)\n",
    "#         if len(tour) < len(capitals):\n",
    "#             # add subtour elimination constr. for every pair of cities in subtour\n",
    "#             model.cbLazy(g.quicksum(model._vars[i, j] for i, j in combinations(tour, 2))\n",
    "#                          <= len(tour)-1)\n",
    "\n",
    "# # Given a tuplelist of edges, find the shortest subtour\n",
    "\n",
    "# def subtour(edges):\n",
    "#     unvisited = capitals[:]\n",
    "#     cycle = capitals[:] # Dummy - guaranteed to be replaced\n",
    "#     while unvisited:  # true if list is non-empty\n",
    "#         thiscycle = []\n",
    "#         neighbors = unvisited\n",
    "#         while neighbors:\n",
    "#             current = neighbors[0]\n",
    "#             thiscycle.append(current)\n",
    "#             unvisited.remove(current)\n",
    "#             neighbors = [j for i, j in edges.select(current, '*')\n",
    "#                          if j in unvisited]\n",
    "#         if len(thiscycle) <= len(cycle):\n",
    "#             cycle = thiscycle # New shortest subtour\n",
    "#     return cycle"
   ]
  },
  {
   "cell_type": "code",
   "execution_count": 11,
   "metadata": {},
   "outputs": [
    {
     "name": "stdout",
     "output_type": "stream",
     "text": [
      "Set parameter LazyConstraints to value 1\n",
      "Gurobi Optimizer version 9.5.1 build v9.5.1rc2 (mac64[arm])\n",
      "Thread count: 8 physical cores, 8 logical processors, using up to 8 threads\n",
      "Optimize a model with 8 rows, 16 columns and 32 nonzeros\n",
      "Model fingerprint: 0x3f97cddb\n",
      "Variable types: 0 continuous, 16 integer (16 binary)\n",
      "Coefficient statistics:\n",
      "  Matrix range     [1e+00, 1e+00]\n",
      "  Objective range  [8e+02, 2e+03]\n",
      "  Bounds range     [1e+00, 1e+00]\n",
      "  RHS range        [1e+00, 1e+00]\n",
      "Found heuristic solution: objective 2550.0000000\n",
      "Presolve removed 0 rows and 4 columns\n",
      "Presolve time: 0.00s\n",
      "Presolved: 8 rows, 12 columns, 24 nonzeros\n",
      "Variable types: 0 continuous, 12 integer (12 binary)\n",
      "\n",
      "Root relaxation: objective 1.785000e+03, 7 iterations, 0.00 seconds (0.00 work units)\n",
      "\n",
      "    Nodes    |    Current Node    |     Objective Bounds      |     Work\n",
      " Expl Unexpl |  Obj  Depth IntInf | Incumbent    BestBd   Gap | It/Node Time\n",
      "\n",
      "*    0     0               0    1785.0000000 1785.00000  0.00%     -    0s\n",
      "\n",
      "Explored 1 nodes (7 simplex iterations) in 0.01 seconds (0.00 work units)\n",
      "Thread count was 8 (of 8 available processors)\n",
      "\n",
      "Solution count 2: 1785 2550 \n",
      "\n",
      "Optimal solution found (tolerance 1.00e-04)\n",
      "Best objective 1.785000000000e+03, best bound 1.785000000000e+03, gap 0.0000%\n",
      "\n",
      "User-callback calls 111, time in user-callback 0.00 sec\n"
     ]
    }
   ],
   "source": [
    "m._vars = vars\n",
    "m.params.LazyConstraints = 1\n",
    "m.optimize(subtourelim)\n",
    "m.write('model.lp')"
   ]
  },
  {
   "cell_type": "code",
   "execution_count": 12,
   "metadata": {},
   "outputs": [
    {
     "data": {
      "text/plain": [
       "1"
      ]
     },
     "execution_count": 12,
     "metadata": {},
     "output_type": "execute_result"
    }
   ],
   "source": [
    "output_file = open('output.txt', 'w+')\n",
    "\n",
    "final_tour = []\n",
    "for key, value in vars.items():\n",
    "    if value.X == 1:\n",
    "        final_tour.append(key)\n",
    "\n",
    "final_tour = find_shortest_tour(final_tour)\n",
    "result = []\n",
    "\n",
    "for i in range(n+1):\n",
    "    if final_tour[i][0] == n:\n",
    "        dummy_index = i\n",
    "\n",
    "\n",
    "result.append(final_tour[i][0])\n",
    "part1 = result[dummy_index+1: len(final_tour)]\n",
    "part2 = result[0:dummy_index]\n",
    "result = np.concatenate((part1, part2), axis=0)\n",
    "output_file.write(\" \".join(map(str, result.astype(int))))"
   ]
  },
  {
   "cell_type": "code",
   "execution_count": 13,
   "metadata": {},
   "outputs": [],
   "source": [
    "# # Retrieve solution\n",
    "\n",
    "# vals = m.getAttr('x', vars)\n",
    "# selected = g.tuplelist((i, j) for i, j in vals.keys() if vals[i, j] > 0.5)\n",
    "\n",
    "# for i in selected:\n",
    "#     print(selected)\n",
    "\n",
    "# tour = subtour(selected)\n",
    "# assert len(tour) == len(capitals)"
   ]
  }
 ],
 "metadata": {
  "interpreter": {
   "hash": "b0fa6594d8f4cbf19f97940f81e996739fb7646882a419484c72d19e05852a7e"
  },
  "kernelspec": {
   "display_name": "Python 3.9.10 64-bit",
   "language": "python",
   "name": "python3"
  },
  "language_info": {
   "codemirror_mode": {
    "name": "ipython",
    "version": 3
   },
   "file_extension": ".py",
   "mimetype": "text/x-python",
   "name": "python",
   "nbconvert_exporter": "python",
   "pygments_lexer": "ipython3",
   "version": "3.9.10"
  },
  "orig_nbformat": 4
 },
 "nbformat": 4,
 "nbformat_minor": 2
}
